{
 "cells": [
  {
   "cell_type": "code",
   "execution_count": 1,
   "metadata": {
    "collapsed": true
   },
   "outputs": [],
   "source": [
    "\"\"\"\n",
    "Request data from the Leage of Legends API and write it to a text file\n",
    "\"\"\"\n",
    "import requests\n",
    "import time\n",
    "REQUESTLIMIT10S = 10\n",
    "REQUESTLIMIT10M = 500\n",
    "requestCount = 0\n",
    "request = 'https://euw.api.riotgames.com/api/lol/EUW/v2.5/league/challenger?type=RANKED_SOLO_5x5&api_key=RGAPI-50a14ae0-9800-41c7-8ebc-37b646e63b56'\n",
    "requestCount +=1\n",
    "response = requests.get(request)\n",
    "responseJson = response.json()\n",
    "participants = set()\n",
    "for entry in responseJson['entries']:\n",
    "    participants.add(entry['playerOrTeamId'])\n",
    "requestCountS =0 \n",
    "requestCountM =0  \n",
    "matchesById = list()\n",
    "for playerId in participants:  \n",
    "    if(requestCountS == REQUESTLIMIT10S): #if requests reach 10 in 10 seconds, sleep for 10 seconds\n",
    "        time.sleep(10)\n",
    "        requestCountS = 0   \n",
    "    if(requestCountM == REQUESTLIMIT10M): #if requests reach the limit of 500 in 10 minutes, sleep for 10 minutes \n",
    "        time.sleep(600)\n",
    "        requestCountM = 0  \n",
    "    requestCountS +=1\n",
    "    requestCountM +=1           \n",
    "    request = 'https://euw.api.riotgames.com/api/lol/EUW/v1.3/game/by-summoner/' + playerId + '/recent?api_key=RGAPI-50a14ae0-9800-41c7-8ebc-37b646e63b56'\n",
    "    requestCount +=1\n",
    "    response = requests.get(request)\n",
    "    responseJson = response.json()\n",
    "    if 'games' in responseJson:\n",
    "        for match in responseJson['games']:\n",
    "            stats = dict()\n",
    "            if 'RANKED' in match['subType']:\n",
    "                stats['Team1_summonerId_1'] = int(playerId)\n",
    "                stats['gameId'] = match['gameId']\n",
    "                stats['Team1_win'] = match['stats']['win']\n",
    "                stats['Team2_win'] = not match['stats']['win']\n",
    "                team1 = match['teamId']\n",
    "                count_Team_1_Players = 2\n",
    "                count_Team_2_Players = 1\n",
    "                for player in match['fellowPlayers']:\n",
    "                    if player['teamId'] is team1:\n",
    "                        stats['Team1_summonerId_' + str(count_Team_1_Players)] = player['summonerId']\n",
    "                        count_Team_1_Players +=1\n",
    "                    else:\n",
    "                        stats['Team2_summonerId_' + str(count_Team_2_Players)] = player['summonerId'] \n",
    "                        count_Team_2_Players+=1\n",
    "                matchesById.append(stats)\n",
    "thefile = open('matchesById.txt', 'w')\n",
    "for item in matchesById:\n",
    "    thefile.write(\"%s,\\n\" % item) \n",
    "thefile.close()"
   ]
  },
  {
   "cell_type": "code",
   "execution_count": 15,
   "metadata": {
    "collapsed": false
   },
   "outputs": [],
   "source": [
    "''' Conver text file to json readable format'''\n",
    "file = open('matchesById.txt') \n",
    "out = '{\"games\" :['\n",
    "for line in file:\n",
    "    a=line.replace('\\'', '\"')\n",
    "    b = a.replace('True','true')\n",
    "    c = b.replace('False','false')\n",
    "    out+=c\n",
    "out=out[:len(out)-2] #removing the last , to avoid syntax errors\n",
    "out+=']}'    \n",
    "thefile = open('matchesById.json', 'w')\n",
    "thefile.write(out)\n",
    "thefile.close()\n",
    "file.close()"
   ]
  },
  {
   "cell_type": "code",
   "execution_count": 29,
   "metadata": {
    "collapsed": false
   },
   "outputs": [],
   "source": [
    "import json\n",
    "import pandas as pd\n",
    "with open('matchesById.json') as data_file:\n",
    "    data = json.load(data_file)\n",
    "matches = pd.DataFrame()\n",
    "for match in data['games']:\n",
    "    stats = pd.DataFrame(match,index = data)\n",
    "    matches = pd.DataFrame.append(matches,stats)\n",
    "matches.to_csv(\"games.csv\", sep=',')"
   ]
  }
 ],
 "metadata": {
  "kernelspec": {
   "display_name": "Python 2",
   "language": "python",
   "name": "python2"
  },
  "language_info": {
   "codemirror_mode": {
    "name": "ipython",
    "version": 2
   },
   "file_extension": ".py",
   "mimetype": "text/x-python",
   "name": "python",
   "nbconvert_exporter": "python",
   "pygments_lexer": "ipython2",
   "version": "2.7.12"
  }
 },
 "nbformat": 4,
 "nbformat_minor": 2
}
